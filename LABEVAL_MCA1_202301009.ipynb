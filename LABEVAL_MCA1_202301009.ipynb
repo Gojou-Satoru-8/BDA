{
  "nbformat": 4,
  "nbformat_minor": 0,
  "metadata": {
    "colab": {
      "provenance": [],
      "authorship_tag": "ABX9TyNUBhMMpNsZSXBUlB0YQte2",
      "include_colab_link": true
    },
    "kernelspec": {
      "name": "python3",
      "display_name": "Python 3"
    },
    "language_info": {
      "name": "python"
    }
  },
  "cells": [
    {
      "cell_type": "markdown",
      "metadata": {
        "id": "view-in-github",
        "colab_type": "text"
      },
      "source": [
        "<a href=\"https://colab.research.google.com/github/Gojou-Satoru-8/BDA/blob/main/LABEVAL_MCA1_202301009.ipynb\" target=\"_parent\"><img src=\"https://colab.research.google.com/assets/colab-badge.svg\" alt=\"Open In Colab\"/></a>"
      ]
    },
    {
      "cell_type": "code",
      "execution_count": 20,
      "metadata": {
        "id": "oz6yo_Gkvrnq",
        "colab": {
          "base_uri": "https://localhost:8080/"
        },
        "outputId": "e913ba9c-ca9f-4590-f937-e1fbfa0e958d"
      },
      "outputs": [
        {
          "output_type": "stream",
          "name": "stdout",
          "text": [
            "The first matrix is:\n",
            "[[1 2]\n",
            " [2 3]]\n",
            "The second matrix is:\n",
            "[[4 5]\n",
            " [6 7]]\n",
            "------------------\n",
            "The product matrix of two the two matrices : \n",
            "[[16 19]\n",
            " [26 31]]\n",
            "------------------\n",
            "Multiplication of corresponding elements of the numpy arrays/matrices:\n",
            "[[ 4 10]\n",
            " [12 21]]\n",
            "------------------\n",
            "The covariance between matrices p and q using np.cov(p, q) is: \n",
            "[[0.5 0.5 0.5 0.5]\n",
            " [0.5 0.5 0.5 0.5]\n",
            " [0.5 0.5 0.5 0.5]\n",
            " [0.5 0.5 0.5 0.5]]\n"
          ]
        }
      ],
      "source": [
        "# Mutliply the following matrices and also find covariance between matrices using Numpy:\n",
        "import numpy as np\n",
        "p = np.matrix([[1,2], [2,3]]) # Or np.array([[1,2], [2,3]])\n",
        "q = np.matrix([[4,5], [6,7]]) # Or np.array([[4,5], [6,7]])\n",
        "\n",
        "print(f\"The first matrix is:\")\n",
        "print(p)\n",
        "print(f\"The second matrix is:\")\n",
        "print(q)\n",
        "print(\"------------------\")\n",
        "\n",
        "product = np.dot(p, q)  # Or np.matmul(p, q)\n",
        "print(f\"The product matrix of two the two matrices : \")\n",
        "print(product)\n",
        "print(\"------------------\")\n",
        "# If multiplying corresponding elements is desired:\n",
        "print(\"Multiplication of corresponding elements of the numpy arrays/matrices:\")\n",
        "print(np.multiply(p, q))\n",
        "print(\"------------------\")\n",
        "\n",
        "# Finding Covariance:\n",
        "covariance = np.cov(p, q)\n",
        "print(f\"The covariance between matrices p and q using np.cov(p, q) is: \")\n",
        "print(covariance)"
      ]
    }
  ]
}