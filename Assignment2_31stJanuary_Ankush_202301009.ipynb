{
  "nbformat": 4,
  "nbformat_minor": 0,
  "metadata": {
    "colab": {
      "provenance": []
    },
    "kernelspec": {
      "name": "python3",
      "display_name": "Python 3"
    },
    "language_info": {
      "name": "python"
    }
  },
  "cells": [
    {
      "cell_type": "code",
      "execution_count": null,
      "metadata": {
        "id": "ICjgFHdtKML3"
      },
      "outputs": [],
      "source": [
        "# Q1. Reverse the NumPy array: arr = np.array([1, 2, 3, 6, 4, 5]) )\n",
        "import numpy as np\n",
        "\n",
        "arr = np.array([i for i in range(1, 5 + 1)])\n",
        "print(\"Reversed array: \")\n",
        "print(np.flip(arr))\n",
        "\n"
      ]
    },
    {
      "cell_type": "code",
      "source": [
        "# Q2. Compare the following numpy arrays:\n",
        "# arr1 = np.array([[1, 2], [3, 4]])\n",
        "# arr2 = np.array([[1, 2], [3, 4]])\n",
        "\n",
        "# arr2 = np.ndarray(shape=(2,1), dtype=float, order='C')\n",
        "arr1 = np.array([[1,2], [3,4]])\n",
        "arr2 = np.array([[1,2], [3,4]])\n",
        "print(np.array_equal(arr1, arr2))\n",
        "print(np.greater(arr1, arr2))\n",
        "print(np.greater_equal(arr1, arr2))\n",
        "print(np.less_equal(arr1, arr2))\n",
        "print(np.less(arr1, arr2))\n"
      ],
      "metadata": {
        "id": "USOYFMz9SsOV",
        "colab": {
          "base_uri": "https://localhost:8080/"
        },
        "outputId": "f96064f1-6744-4b0b-a697-7aac6b347b28"
      },
      "execution_count": 24,
      "outputs": [
        {
          "output_type": "stream",
          "name": "stdout",
          "text": [
            "True\n",
            "[[False False]\n",
            " [False False]]\n",
            "[[ True  True]\n",
            " [ True  True]]\n",
            "[[ True  True]\n",
            " [ True  True]]\n",
            "[[False False]\n",
            " [False False]]\n"
          ]
        }
      ]
    },
    {
      "cell_type": "code",
      "source": [
        "# Q3. Find the most frequent value and their indice(s) in the following arrays:\n",
        "# i. x = np.array([1,2,3,4,5,1,2,1,1,1])\n",
        "# ii. y = np.array([1, 1, 1, 2, 3, 4, 2, 4, 3, 3, ])\n",
        "import numpy as np\n",
        "\n",
        "x = np.array([1,2,3,4,5,1,2,1,1,1])\n",
        "# print(\"Number of occurrences of each element: \", np.bincount(x))\n",
        "mode_of_x = np.bincount(x).argmax()\n",
        "print(\"Element with the highest frequency: \", mode_of_x)\n",
        "print(\"Indices: \", [i for i in range(len(x)) if x[i] == mode_of_x])\n",
        "print(\"Indices: \", np.where(x == mode_of_x)[0])\n",
        "\n",
        "y = np.array([1,1,1,2,3,4,2,4,3,3])\n",
        "# print(\"Number of occurrences of each element: \", np.bincount(y))\n",
        "mode_of_y = np.bincount(y).argmax()\n",
        "print(\"Element with the highest frequency: \", mode_of_y)\n",
        "print(\"Indices: \", np.where(y == mode_of_y)[0])\n"
      ],
      "metadata": {
        "colab": {
          "base_uri": "https://localhost:8080/"
        },
        "id": "ZZ_4zJRCSuLM",
        "outputId": "41dd6922-2b71-4b90-bd39-15bf7b869f00"
      },
      "execution_count": 21,
      "outputs": [
        {
          "output_type": "stream",
          "name": "stdout",
          "text": [
            "Element with the highest frequency:  1\n",
            "Indices:  [0, 5, 7, 8, 9]\n",
            "Indices:  [0 5 7 8 9]\n",
            "Element with the highest frequency:  1\n",
            "Indices:  [0 1 2]\n"
          ]
        }
      ]
    },
    {
      "cell_type": "code",
      "source": [
        "# 4. For the array gfg = np.matrix('[4, 1, 9; 12, 3, 1; 4, 5, 6]'),\n",
        "# find i. Sum of all elements\n",
        "# ii. Sum of all elements row-wise\n",
        "# iii. Sum of all elements column-wise\n",
        "matrix = np.matrix('[4, 1, 9; 12, 3, 1; 4, 5, 6]')\n",
        "print(\"Original matrix:\\n\", matrix)\n",
        "print(\"Sum of all elements:\\n\", matrix.sum())\n",
        "print(\"Sum of all elements row-wise:\\n\", matrix.sum(axis=1))\n",
        "print(\"Sum of all elements column-wise:\\n\", matrix.sum(axis=0))\n"
      ],
      "metadata": {
        "colab": {
          "base_uri": "https://localhost:8080/"
        },
        "id": "3kRtDY1XVmvW",
        "outputId": "b8c285a0-38b2-432f-fc73-04660d55d4a5"
      },
      "execution_count": 20,
      "outputs": [
        {
          "output_type": "stream",
          "name": "stdout",
          "text": [
            "Original matrix:\n",
            " [[ 4  1  9]\n",
            " [12  3  1]\n",
            " [ 4  5  6]]\n",
            "Sum of all elements:\n",
            " 45\n",
            "Sum of all elements row-wise:\n",
            " [[14]\n",
            " [16]\n",
            " [15]]\n",
            "Sum of all elements column-wise:\n",
            " [[20  9 16]]\n"
          ]
        }
      ]
    }
  ]
}