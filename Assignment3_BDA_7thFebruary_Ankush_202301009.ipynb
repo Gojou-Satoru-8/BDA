{
  "nbformat": 4,
  "nbformat_minor": 0,
  "metadata": {
    "colab": {
      "provenance": [],
      "toc_visible": true,
      "mount_file_id": "1quQfLb_3qSMRS5gFzdgM80lPhdShQllk",
      "authorship_tag": "ABX9TyOJeAhZFHW206g/EtbuBJP+",
      "include_colab_link": true
    },
    "kernelspec": {
      "name": "python3",
      "display_name": "Python 3"
    },
    "language_info": {
      "name": "python"
    }
  },
  "cells": [
    {
      "cell_type": "markdown",
      "metadata": {
        "id": "view-in-github",
        "colab_type": "text"
      },
      "source": [
        "<a href=\"https://colab.research.google.com/github/Gojou-Satoru-8/BDA/blob/main/Assignment3_BDA_7thFebruary_Ankush_202301009.ipynb\" target=\"_parent\"><img src=\"https://colab.research.google.com/assets/colab-badge.svg\" alt=\"Open In Colab\"/></a>"
      ]
    },
    {
      "cell_type": "code",
      "execution_count": 56,
      "metadata": {
        "colab": {
          "base_uri": "https://localhost:8080/"
        },
        "id": "5huYtnv1RwOb",
        "outputId": "d7d2b2ac-2692-497b-e333-3a1ece96e845"
      },
      "outputs": [
        {
          "output_type": "stream",
          "name": "stdout",
          "text": [
            "Q1: Table is displayed below:\n",
            "   Tid Refund Marital Status  Taxable Income Cheat\n",
            "0    1    Yes         Single          125000    No\n",
            "1    2     No        Married          100000    No\n",
            "2    3     No         Single           70000    No\n",
            "3    4    Yes        Married          120000    No\n",
            "4    5     No       Divorced           95000   Yes\n",
            "5    6     No        Married           60000    No\n",
            "6    7    Yes       Divorced          220000    No\n",
            "7    8     No         Single           85000   Yes\n",
            "8    9     No        Married           75000    No\n",
            "9   10     No         Single           90000   Yes\n",
            "------------------------------------------------------\n",
            "Q2: Rows 0, 4, 7 and 8 are as follows:\n",
            "Tid                    1\n",
            "Refund               Yes\n",
            "Marital Status    Single\n",
            "Taxable Income    125000\n",
            "Cheat                 No\n",
            "Name: 0, dtype: object\n",
            "Tid                      5\n",
            "Refund                  No\n",
            "Marital Status    Divorced\n",
            "Taxable Income       95000\n",
            "Cheat                  Yes\n",
            "Name: 4, dtype: object\n",
            "Tid                    8\n",
            "Refund                No\n",
            "Marital Status    Single\n",
            "Taxable Income     85000\n",
            "Cheat                Yes\n",
            "Name: 7, dtype: object\n",
            "Tid                     9\n",
            "Refund                 No\n",
            "Marital Status    Married\n",
            "Taxable Income      75000\n",
            "Cheat                  No\n",
            "Name: 8, dtype: object\n",
            "------------------------------------------------------\n",
            "Q3: Imported csv file is as follows\n",
            "         day  temp condition\n",
            "0     Monday    12     Sunny\n",
            "1    Tuesday    14      Rain\n",
            "2  Wednesday    15      Rain\n",
            "3   Thursday    14    Cloudy\n",
            "4     Friday    21     Sunny\n",
            "5   Saturday    22     Sunny\n",
            "6     Sunday    24     Sunny\n",
            "Min temp: 12, Max temp: 24, Avg temp: 17.428571428571427\n"
          ]
        }
      ],
      "source": [
        "# Q1 Create a dataset as follow in the table.\n",
        "import pandas as pd\n",
        "\n",
        "data = {\n",
        "    \"Tid\": [num for num in range(1, 11)],\n",
        "    \"Refund\": [\"Yes\", \"No\", \"No\", \"Yes\", \"No\", \"No\", \"Yes\", \"No\", \"No\", \"No\"],\n",
        "    \"Marital Status\": [\"Single\", \"Married\", \"Single\", \"Married\", \"Divorced\", \"Married\", \"Divorced\", \"Single\", \"Married\", \"Single\"],\n",
        "    \"Taxable Income\": [125_000, 100_000, 70_000, 120_000, 95_000, 60_000, 220_000, 85_000, 75_000, 90_000],\n",
        "    \"Cheat\": [\"No\", \"No\", \"No\", \"No\", \"Yes\", \"No\", \"No\", \"Yes\", \"No\", \"Yes\"]\n",
        "}\n",
        "\n",
        "df = pd.DataFrame(data)\n",
        "print(\"Q1: Table is displayed below:\")\n",
        "print(df)\n",
        "# print(type(df))\n",
        "# df.info()       # Info about the dataframe\n",
        "# print(df.shape) # Number of Rows and columns as a tuple\n",
        "# print(len(df))  # Number of rows\n",
        "# print(len(df), df[\"Tid\"].count()) # count returns number of non None rows in a column\n",
        "\n",
        "print(\"------------------------------------------------------\")\n",
        "\n",
        "# Q2 From the above table that you have created, Locate row 0, 4, 7 and 8 using dataframe.\n",
        "print(\"Q2: Rows 0, 4, 7 and 8 are as follows:\")\n",
        "print(df.loc[0])   # df.iloc is another option\n",
        "print(df.loc[4])\n",
        "print(df.loc[7])\n",
        "print(df.loc[8])\n",
        "\n",
        "print(\"------------------------------------------------------\")\n",
        "# Q3 Read a csv file in google collab and display it\n",
        "weatherDF = pd.read_csv(\"/content/Assignment CSVs/Weather.csv\")\n",
        "print(\"Q3: Imported csv file is as follows\")\n",
        "print(weatherDF)\n",
        "# print(type(weatherDF.get(\"temp\")), type(weatherDF[\"temp\"])) # Pandas Series type\n",
        "temp_series = weatherDF.get(\"temp\")\n",
        "print(f\"Min temp: {temp_series.min()}, Max temp: {temp_series.max()}, Avg temp: {temp_series.mean()}\")\n",
        "# NOTE: The Weather.csv file uploaded here may not persist next time"
      ]
    }
  ]
}